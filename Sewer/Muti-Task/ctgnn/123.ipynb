{
 "cells": [
  {
   "cell_type": "code",
   "execution_count": null,
   "metadata": {
    "collapsed": true,
    "pycharm": {
     "is_executing": true
    }
   },
   "outputs": [],
   "source": [
    "import os\n",
    "import shutil\n",
    "\n",
    "src_base = \"F:\\\\Data\\\\Sewer\"\n",
    "dst = \"F:\\\\Data\\\\Sewer\\\\sumT\"\n",
    "\n",
    "# 创建'sum'目录，如果不存在\n",
    "if not os.path.exists(dst):\n",
    "    os.makedirs(dst)\n",
    "\n",
    "# 遍历文件夹'train00'到'train13'\n",
    "for i in range(14):\n",
    "    src_folder = os.path.join(src_base, f\"train{str(i).zfill(2)}\")\n",
    "\n",
    "    # 遍历源目录的所有文件\n",
    "    for filename in os.listdir(src_folder):\n",
    "        # 判断文件是否为图片（根据需要可以补充或修改支持的图片格式）\n",
    "        if filename.lower().endswith((\".png\", \".jpg\", \".jpeg\")):\n",
    "            src_file = os.path.join(src_folder, filename)\n",
    "            dst_file = os.path.join(dst, filename)\n",
    "\n",
    "            # 复制图片到'sum'文件夹\n",
    "            shutil.copy(src_file, dst)\n",
    "\n",
    "            # 删除原始图片文件\n",
    "            os.remove(src_file)"
   ]
  },
  {
   "cell_type": "code",
   "execution_count": null,
   "outputs": [],
   "source": [],
   "metadata": {
    "collapsed": false
   }
  },
  {
   "cell_type": "code",
   "execution_count": 1,
   "outputs": [],
   "source": [
    "import os\n",
    "import pandas as pd\n",
    "\n",
    "# 指定文件夹和CSV文件的路径\n",
    "folder_path = 'F:\\\\Data\\\\Sewer\\\\sumT'\n",
    "csv_path = 'F:\\\\Data\\\\Sewer\\\\SewerML_Train.csv'\n",
    "\n",
    "# 获取文件夹中所有的.png文件的文件名\n",
    "png_files = [f for f in os.listdir(folder_path) if f.endswith('.png')]\n",
    "\n",
    "# 读取CSV文件\n",
    "csv_data = pd.read_csv(csv_path)\n",
    "\n",
    "# 比较并删除CSV文件中与文件夹名称不匹配的行\n",
    "csv_data_filtered = csv_data[csv_data.iloc[:, 0].isin(png_files)]\n",
    "\n",
    "# 将过滤后的数据保存回CSV文件\n",
    "csv_data_filtered.to_csv(csv_path, index=False)"
   ],
   "metadata": {
    "collapsed": false
   }
  }
 ],
 "metadata": {
  "kernelspec": {
   "display_name": "Python 3",
   "language": "python",
   "name": "python3"
  },
  "language_info": {
   "codemirror_mode": {
    "name": "ipython",
    "version": 2
   },
   "file_extension": ".py",
   "mimetype": "text/x-python",
   "name": "python",
   "nbconvert_exporter": "python",
   "pygments_lexer": "ipython2",
   "version": "2.7.6"
  }
 },
 "nbformat": 4,
 "nbformat_minor": 0
}
