{
 "cells": [
  {
   "cell_type": "markdown",
   "id": "34bf3342-b63b-4bb6-9a38-db6b6d396dcb",
   "metadata": {},
   "source": [
    "# 统计图像尺寸、比例分布\n",
    "\n",
    "同济子豪兄 https://space.bilibili.com/1900783\n",
    "\n",
    "2022-8-1"
   ]
  },
  {
   "cell_type": "markdown",
   "id": "115e44be-7f62-48b9-b7b1-2bf440904df8",
   "metadata": {},
   "source": [
    "## 导入工具包"
   ]
  },
  {
   "cell_type": "code",
   "execution_count": 1,
   "id": "d11c29c9-de4f-45a0-bdef-2f727be2b469",
   "metadata": {},
   "outputs": [],
   "source": [
    "import os\n",
    "import numpy as np\n",
    "import pandas as pd\n",
    "import cv2\n",
    "from tqdm import tqdm\n",
    "\n",
    "# import matplotlib.pyplot as plt\n",
    "# %matplotlib inline\n"
   ]
  },
  {
   "cell_type": "code",
   "execution_count": 7,
   "outputs": [],
   "source": [
    "\n",
    "import matplotlib\n",
    "import matplotlib.pyplot as plt\n",
    "\n",
    "matplotlib.use('TkAgg')"
   ],
   "metadata": {
    "collapsed": false
   }
  },
  {
   "cell_type": "markdown",
   "id": "df140610-cd22-4a2c-9a85-1559f32d8eb9",
   "metadata": {},
   "source": [
    "## 指定数据集路径"
   ]
  },
  {
   "cell_type": "code",
   "execution_count": 3,
   "id": "055e8a00-7726-4a0a-a002-5dc13c66dfaf",
   "metadata": {},
   "outputs": [
    {
     "data": {
      "text/plain": "['AJ',\n 'BX',\n 'CJ',\n 'CK',\n 'CQ',\n 'CR',\n 'FS',\n 'FZ',\n 'JG',\n 'PL',\n 'QF',\n 'SG',\n 'SL',\n 'TJ',\n 'TL',\n 'ZW']"
     },
     "execution_count": 3,
     "metadata": {},
     "output_type": "execute_result"
    }
   ],
   "source": [
    "# 指定数据集路径\n",
    "dataset_path = r'F:\\SewerData'\n",
    "os.chdir(dataset_path)\n",
    "os.listdir()"
   ]
  },
  {
   "cell_type": "code",
   "execution_count": 4,
   "id": "77beae62-7183-4780-83d6-bedaf85c3539",
   "metadata": {},
   "outputs": [
    {
     "name": "stderr",
     "output_type": "stream",
     "text": [
      "100%|██████████| 16/16 [00:15<00:00,  1.02it/s]\n"
     ]
    }
   ],
   "source": [
    "df = pd.DataFrame()\n",
    "for fruit in tqdm(os.listdir()): # 遍历每个类别    \n",
    "    os.chdir(fruit)\n",
    "    for file in os.listdir(): # 遍历每张图像\n",
    "        try:\n",
    "            img = cv2.imread(file)\n",
    "            df = df.append({'类别':fruit, '文件名':file, '图像宽':img.shape[1], '图像高':img.shape[0]}, ignore_index=True)\n",
    "        except:\n",
    "            print(os.path.join(fruit, file), '读取错误')\n",
    "    os.chdir('../')\n",
    "os.chdir('../')"
   ]
  },
  {
   "cell_type": "code",
   "execution_count": 5,
   "id": "b87e2069-ac01-4269-8346-bf2f54abd475",
   "metadata": {},
   "outputs": [
    {
     "data": {
      "text/plain": "      类别                                文件名     图像宽    图像高\n0     AJ                             11.jpg  1280.0  720.0\n1     AJ                             12.jpg  1280.0  720.0\n2     AJ                             13.jpg  1280.0  720.0\n3     AJ                             14.jpg  1280.0  720.0\n4     AJ                             15.jpg  1280.0  720.0\n...   ..                                ...     ...    ...\n1137  ZW  d6102.mp4_20230504_221442.127.jpg  1514.0  852.0\n1138  ZW  d6120.mp4_20230504_221447.562.jpg  1514.0  852.0\n1139  ZW  d6142.mp4_20230504_221457.257.jpg  1514.0  852.0\n1140  ZW  d6142.mp4_20230504_221502.241.jpg  1514.0  852.0\n1141  ZW  d6240.mp4_20230504_221524.945.jpg  1514.0  852.0\n\n[1142 rows x 4 columns]",
      "text/html": "<div>\n<style scoped>\n    .dataframe tbody tr th:only-of-type {\n        vertical-align: middle;\n    }\n\n    .dataframe tbody tr th {\n        vertical-align: top;\n    }\n\n    .dataframe thead th {\n        text-align: right;\n    }\n</style>\n<table border=\"1\" class=\"dataframe\">\n  <thead>\n    <tr style=\"text-align: right;\">\n      <th></th>\n      <th>类别</th>\n      <th>文件名</th>\n      <th>图像宽</th>\n      <th>图像高</th>\n    </tr>\n  </thead>\n  <tbody>\n    <tr>\n      <th>0</th>\n      <td>AJ</td>\n      <td>11.jpg</td>\n      <td>1280.0</td>\n      <td>720.0</td>\n    </tr>\n    <tr>\n      <th>1</th>\n      <td>AJ</td>\n      <td>12.jpg</td>\n      <td>1280.0</td>\n      <td>720.0</td>\n    </tr>\n    <tr>\n      <th>2</th>\n      <td>AJ</td>\n      <td>13.jpg</td>\n      <td>1280.0</td>\n      <td>720.0</td>\n    </tr>\n    <tr>\n      <th>3</th>\n      <td>AJ</td>\n      <td>14.jpg</td>\n      <td>1280.0</td>\n      <td>720.0</td>\n    </tr>\n    <tr>\n      <th>4</th>\n      <td>AJ</td>\n      <td>15.jpg</td>\n      <td>1280.0</td>\n      <td>720.0</td>\n    </tr>\n    <tr>\n      <th>...</th>\n      <td>...</td>\n      <td>...</td>\n      <td>...</td>\n      <td>...</td>\n    </tr>\n    <tr>\n      <th>1137</th>\n      <td>ZW</td>\n      <td>d6102.mp4_20230504_221442.127.jpg</td>\n      <td>1514.0</td>\n      <td>852.0</td>\n    </tr>\n    <tr>\n      <th>1138</th>\n      <td>ZW</td>\n      <td>d6120.mp4_20230504_221447.562.jpg</td>\n      <td>1514.0</td>\n      <td>852.0</td>\n    </tr>\n    <tr>\n      <th>1139</th>\n      <td>ZW</td>\n      <td>d6142.mp4_20230504_221457.257.jpg</td>\n      <td>1514.0</td>\n      <td>852.0</td>\n    </tr>\n    <tr>\n      <th>1140</th>\n      <td>ZW</td>\n      <td>d6142.mp4_20230504_221502.241.jpg</td>\n      <td>1514.0</td>\n      <td>852.0</td>\n    </tr>\n    <tr>\n      <th>1141</th>\n      <td>ZW</td>\n      <td>d6240.mp4_20230504_221524.945.jpg</td>\n      <td>1514.0</td>\n      <td>852.0</td>\n    </tr>\n  </tbody>\n</table>\n<p>1142 rows × 4 columns</p>\n</div>"
     },
     "execution_count": 5,
     "metadata": {},
     "output_type": "execute_result"
    }
   ],
   "source": [
    "df"
   ]
  },
  {
   "cell_type": "markdown",
   "id": "ed352515-e77c-400c-a439-e8a4dd6f0ccd",
   "metadata": {},
   "source": [
    "## 可视化图像尺寸分布"
   ]
  },
  {
   "cell_type": "code",
   "execution_count": 12,
   "id": "36c57c33-87f5-4d12-ae13-4a8f9c11ee9c",
   "metadata": {},
   "outputs": [
    {
     "name": "stdout",
     "output_type": "stream",
     "text": [
      "[1280. 2154.  314. 1188. 1514. 1166. 1272.  704.]\n",
      "[1280. 2154.  314. 1188. 1514. 1166. 1272.  704.]\n"
     ]
    }
   ],
   "source": [
    "from scipy.stats import gaussian_kde\n",
    "from matplotlib.colors import LogNorm\n",
    "\n",
    "x = df['图像宽']\n",
    "y = df['图像高']\n",
    "\n",
    "xy = np.vstack([x,y])\n",
    "z = gaussian_kde(xy)(xy)\n",
    "\n",
    "# Sort the points by density, so that the densest points are plotted last\n",
    "idx = z.argsort()\n",
    "x, y, z = x[idx], y[idx], z[idx]\n",
    "\n",
    "plt.figure(figsize=(10,10))\n",
    "# plt.figure(figsize=(12,12))\n",
    "plt.scatter(x, y, c=z,  s=5, cmap='Spectral_r')\n",
    "# plt.colorbar()\n",
    "# plt.xticks([])\n",
    "# plt.yticks([])\n",
    "\n",
    "plt.tick_params(labelsize=15)\n",
    "\n",
    "xy_max = max(max(df['图像宽']), max(df['图像高']))\n",
    "plt.xlim(xmin=0, xmax=xy_max)\n",
    "plt.ylim(ymin=0, ymax=xy_max)\n",
    "\n",
    "plt.ylabel('height', fontsize=25)\n",
    "plt.xlabel('width', fontsize=25)\n",
    "\n",
    "plt.savefig('图像尺寸分布.pdf', dpi=120, bbox_inches='tight')\n",
    "\n",
    "plt.show()"
   ]
  },
  {
   "cell_type": "code",
   "execution_count": 14,
   "id": "6d9e1800-5edb-4af8-930d-e43863686daa",
   "metadata": {},
   "outputs": [
    {
     "name": "stdout",
     "output_type": "stream",
     "text": [
      "组合类型的计数：\n",
      " (1514.0, 852.0)     525\n",
      "(1280.0, 720.0)     509\n",
      "(2154.0, 1212.0)     50\n",
      "(314.0, 177.0)       27\n",
      "(1272.0, 954.0)      15\n",
      "(1166.0, 954.0)       8\n",
      "(704.0, 576.0)        7\n",
      "(1188.0, 664.0)       1\n",
      "Name: xy组合, dtype: int64\n"
     ]
    }
   ],
   "source": [
    "import pandas as pd\n",
    "\n",
    "# 将x和y组合成一个新列\n",
    "df['xy组合'] = list(zip(df['图像宽'], df['图像高']))\n",
    "\n",
    "# 获取不同类别的具体类型\n",
    "combination_counts = df['xy组合'].value_counts()\n",
    "\n",
    "print(\"组合类型的计数：\\n\", combination_counts)"
   ]
  },
  {
   "cell_type": "code",
   "execution_count": 22,
   "outputs": [
    {
     "name": "stdout",
     "output_type": "stream",
     "text": [
      "Deleting F:\\SewerData_split\\train\\AJ\\30.jpg with size (314, 177)\n",
      "Deleting F:\\SewerData_split\\train\\AJ\\36.jpg with size (314, 177)\n",
      "Deleting F:\\SewerData_split\\train\\AJ\\38.jpg with size (314, 177)\n",
      "Deleting F:\\SewerData_split\\train\\AJ\\46.jpg with size (314, 177)\n",
      "Deleting F:\\SewerData_split\\train\\AJ\\48.jpg with size (314, 177)\n",
      "Deleting F:\\SewerData_split\\train\\AJ\\51.jpg with size (314, 177)\n",
      "Deleting F:\\SewerData_split\\train\\BX\\21.jpg with size (314, 177)\n",
      "Deleting F:\\SewerData_split\\train\\BX\\23.jpg with size (314, 177)\n",
      "Deleting F:\\SewerData_split\\train\\BX\\24.jpg with size (314, 177)\n",
      "Deleting F:\\SewerData_split\\train\\BX\\27.jpg with size (314, 177)\n",
      "Deleting F:\\SewerData_split\\train\\BX\\29.jpg with size (314, 177)\n",
      "Deleting F:\\SewerData_split\\train\\BX\\30.jpg with size (314, 177)\n",
      "Deleting F:\\SewerData_split\\train\\BX\\31.jpg with size (314, 177)\n",
      "Deleting F:\\SewerData_split\\train\\CR\\10.jpg with size (314, 177)\n",
      "Deleting F:\\SewerData_split\\train\\CR\\11.jpg with size (314, 177)\n",
      "Deleting F:\\SewerData_split\\train\\CR\\12.jpg with size (314, 177)\n",
      "Deleting F:\\SewerData_split\\train\\SG\\19.jpg with size (314, 177)\n",
      "Deleting F:\\SewerData_split\\train\\SG\\20.jpg with size (314, 177)\n",
      "Deleting F:\\SewerData_split\\train\\SL\\22.jpg with size (314, 177)\n",
      "Deleting F:\\SewerData_split\\train\\TJ\\8.jpg with size (314, 177)\n",
      "Deleting F:\\SewerData_split\\train\\TJ\\9.jpg with size (314, 177)\n",
      "Deleting F:\\SewerData_split\\train\\TL\\11.jpg with size (704, 576)\n",
      "Deleting F:\\SewerData_split\\train\\TL\\12.jpg with size (704, 576)\n",
      "Deleting F:\\SewerData_split\\train\\TL\\13.jpg with size (704, 576)\n",
      "Deleting F:\\SewerData_split\\train\\TL\\16.jpg with size (704, 576)\n",
      "Deleting F:\\SewerData_split\\train\\TL\\18.jpg with size (704, 576)\n",
      "Deleting F:\\SewerData_split\\train\\TL\\19.jpg with size (704, 576)\n",
      "Deleting F:\\SewerData_split\\train\\ZW\\20.jpg with size (314, 177)\n",
      "Deleting F:\\SewerData_split\\train\\ZW\\21.jpg with size (314, 177)\n",
      "Deleting F:\\SewerData_split\\train\\ZW\\22.jpg with size (314, 177)\n"
     ]
    }
   ],
   "source": [
    "import os\n",
    "from PIL import Image\n",
    "\n",
    "root_dir = \"F:\\\\SewerData_split\\\\train\"\n",
    "subfolders = [\"AJ\", \"BX\", \"CJ\", \"CK\", \"CQ\", \"CR\", \"FS\", \"FZ\", \"JG\", \"PL\", \"QF\", \"SG\", \"SL\", \"TJ\", \"TL\", \"ZW\"]\n",
    "\n",
    "unwanted_sizes = [(314.0, 177.0), (704.0, 576.0)]\n",
    "\n",
    "for subfolder in subfolders:\n",
    "    subfolder_path = os.path.join(root_dir, subfolder)\n",
    "    for filename in os.listdir(subfolder_path):\n",
    "        if filename.lower().endswith(\".jpg\"):\n",
    "            img_path = os.path.join(subfolder_path, filename)\n",
    "            try:\n",
    "                with Image.open(img_path) as img:\n",
    "                    width, height = img.size\n",
    "                img.close()  # 关闭图像文件\n",
    "                if (width, height) in unwanted_sizes:\n",
    "                    print(f\"Deleting {img_path} with size ({width}, {height})\")\n",
    "                    os.remove(img_path)\n",
    "            except Exception as e:\n",
    "                print(f\"Error processing {img_path}: {e}\")\n"
   ],
   "metadata": {
    "collapsed": false
   }
  },
  {
   "cell_type": "code",
   "execution_count": 23,
   "outputs": [
    {
     "data": {
      "text/plain": "['AJ',\n 'BX',\n 'CJ',\n 'CK',\n 'CQ',\n 'CR',\n 'FS',\n 'FZ',\n 'JG',\n 'PL',\n 'QF',\n 'SG',\n 'SL',\n 'TJ',\n 'TL',\n 'ZW']"
     },
     "execution_count": 23,
     "metadata": {},
     "output_type": "execute_result"
    }
   ],
   "source": [
    "# 指定数据集路径\n",
    "dataset_path = r'F:\\SewerData_split\\train'\n",
    "os.chdir(dataset_path)\n",
    "os.listdir()"
   ],
   "metadata": {
    "collapsed": false
   }
  },
  {
   "cell_type": "code",
   "execution_count": 24,
   "outputs": [
    {
     "name": "stderr",
     "output_type": "stream",
     "text": [
      "100%|██████████| 16/16 [00:12<00:00,  1.26it/s]\n"
     ]
    }
   ],
   "source": [
    "df = pd.DataFrame()\n",
    "for fruit in tqdm(os.listdir()): # 遍历每个类别\n",
    "    os.chdir(fruit)\n",
    "    for file in os.listdir(): # 遍历每张图像\n",
    "        try:\n",
    "            img = cv2.imread(file)\n",
    "            df = df.append({'类别':fruit, '文件名':file, '图像宽':img.shape[1], '图像高':img.shape[0]}, ignore_index=True)\n",
    "        except:\n",
    "            print(os.path.join(fruit, file), '读取错误')\n",
    "    os.chdir('../')\n",
    "os.chdir('../')"
   ],
   "metadata": {
    "collapsed": false
   }
  },
  {
   "cell_type": "code",
   "execution_count": 25,
   "outputs": [
    {
     "name": "stdout",
     "output_type": "stream",
     "text": [
      "组合类型的计数：\n",
      " (1514.0, 852.0)     419\n",
      "(1280.0, 720.0)     412\n",
      "(2154.0, 1212.0)     39\n",
      "(1272.0, 954.0)      12\n",
      "(1166.0, 954.0)       6\n",
      "(1188.0, 664.0)       1\n",
      "Name: xy组合, dtype: int64\n"
     ]
    }
   ],
   "source": [
    "df['xy组合'] = list(zip(df['图像宽'], df['图像高']))\n",
    "\n",
    "# 获取不同类别的具体类型\n",
    "combination_counts = df['xy组合'].value_counts()\n",
    "\n",
    "print(\"组合类型的计数：\\n\", combination_counts)"
   ],
   "metadata": {
    "collapsed": false
   }
  }
 ],
 "metadata": {
  "kernelspec": {
   "display_name": "Python 3 (ipykernel)",
   "language": "python",
   "name": "python3"
  },
  "language_info": {
   "codemirror_mode": {
    "name": "ipython",
    "version": 3
   },
   "file_extension": ".py",
   "mimetype": "text/x-python",
   "name": "python",
   "nbconvert_exporter": "python",
   "pygments_lexer": "ipython3",
   "version": "3.7.10"
  }
 },
 "nbformat": 4,
 "nbformat_minor": 5
}
