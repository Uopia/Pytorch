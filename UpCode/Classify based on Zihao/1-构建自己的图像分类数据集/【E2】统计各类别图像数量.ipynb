{
 "cells": [
  {
   "cell_type": "markdown",
   "id": "bb693caa-b9d5-47e1-951e-acc1a02dd05a",
   "metadata": {},
   "source": [
    "# 图像分类数据集探索统计\n",
    "\n",
    "同济子豪兄 https://space.bilibili.com/1900783\n",
    "\n",
    "代码运行[云GPU平台](https://featurize.cn/?s=d7ce99f842414bfcaea5662a97581bd1)\n",
    "\n",
    "2022-7-23"
   ]
  },
  {
   "cell_type": "markdown",
   "id": "972976fa",
   "metadata": {},
   "source": [
    "## 各类别数据个数柱状图"
   ]
  },
  {
   "cell_type": "markdown",
   "id": "87004a92",
   "metadata": {},
   "source": [
    "### 导入工具包"
   ]
  },
  {
   "cell_type": "code",
   "execution_count": 1,
   "id": "7f62ed0d",
   "metadata": {},
   "outputs": [],
   "source": [
    "import numpy as np\n",
    "import pandas as pd\n",
    "\n",
    "import matplotlib\n",
    "import matplotlib.pyplot as plt\n",
    "\n",
    "matplotlib.use('TkAgg')"
   ]
  },
  {
   "cell_type": "markdown",
   "id": "7bf014d5",
   "metadata": {},
   "source": [
    "### 设置中文字体（选择对应的操作系统）"
   ]
  },
  {
   "cell_type": "code",
   "execution_count": 2,
   "id": "a2dfd133",
   "metadata": {},
   "outputs": [],
   "source": [
    "# windows操作系统\n",
    "plt.rcParams['font.sans-serif']=['SimHei']  # 用来正常显示中文标签\n",
    "plt.rcParams['axes.unicode_minus']=False  # 用来正常显示负号"
   ]
  },
  {
   "cell_type": "code",
   "execution_count": 3,
   "id": "9dc70d25",
   "metadata": {},
   "outputs": [],
   "source": [
    "# Mac操作系统，参考 https://www.ngui.cc/51cto/show-727683.html\n",
    "# 下载 simhei.ttf 字体文件\n",
    "# !wget https://zihao-openmmlab.obs.cn-east-3.myhuaweicloud.com/20220716-mmclassification/dataset/SimHei.ttf"
   ]
  },
  {
   "cell_type": "code",
   "execution_count": 12,
   "id": "c0280a49-afee-4853-83f8-da4a4260ca77",
   "metadata": {},
   "outputs": [
    {
     "name": "stdout",
     "output_type": "stream",
     "text": [
      "--2022-08-02 12:30:17--  https://zihao-openmmlab.obs.cn-east-3.myhuaweicloud.com/20220716-mmclassification/dataset/SimHei.ttf\n",
      "Connecting to 172.16.0.13:5848... connected.\n",
      "Proxy request sent, awaiting response... 200 OK\n",
      "Length: 10050868 (9.6M) [application/x-font-ttf]\n",
      "Saving to: ‘/environment/miniconda3/lib/python3.7/site-packages/matplotlib/mpl-data/fonts/ttf/SimHei.ttf’\n",
      "\n",
      "/environment/minico 100%[===================>]   9.58M  12.5MB/s    in 0.8s    \n",
      "\n",
      "2022-08-02 12:30:18 (12.5 MB/s) - ‘/environment/miniconda3/lib/python3.7/site-packages/matplotlib/mpl-data/fonts/ttf/SimHei.ttf’ saved [10050868/10050868]\n",
      "\n"
     ]
    }
   ],
   "source": [
    "# Linux操作系统，例如 云GPU平台：https://featurize.cn/?s=d7ce99f842414bfcaea5662a97581bd1\n",
    "# 运行完毕后重启 kernel，再从头运行一次\n",
    "!wget https://zihao-openmmlab.obs.cn-east-3.myhuaweicloud.com/20220716-mmclassification/dataset/SimHei.ttf -O /environment/miniconda3/lib/python3.7/site-packages/matplotlib/mpl-data/fonts/ttf/SimHei.ttf\n",
    "!rm -rf /home/featurize/.cache/matplotlib\n",
    "\n",
    "import matplotlib\n",
    "matplotlib.rc(\"font\",family='SimHei') # 中文字体\n",
    "# plt.rcParams['font.sans-serif']=['SimHei']  # 用来正常显示中文标签\n",
    "plt.rcParams['axes.unicode_minus']=False  # 用来正常显示负号"
   ]
  },
  {
   "cell_type": "markdown",
   "id": "dc1c56ab",
   "metadata": {},
   "source": [
    "### 导入数据集统计表格"
   ]
  },
  {
   "cell_type": "code",
   "execution_count": 3,
   "id": "c873089b",
   "metadata": {},
   "outputs": [],
   "source": [
    "df = pd.read_csv('数据量统计.csv')"
   ]
  },
  {
   "cell_type": "code",
   "execution_count": 4,
   "id": "c7424f6c",
   "metadata": {},
   "outputs": [
    {
     "data": {
      "text/plain": "(16, 4)"
     },
     "execution_count": 4,
     "metadata": {},
     "output_type": "execute_result"
    }
   ],
   "source": [
    "df.shape"
   ]
  },
  {
   "cell_type": "code",
   "execution_count": 5,
   "id": "138e7c7e",
   "metadata": {},
   "outputs": [
    {
     "data": {
      "text/plain": "   class  trainset  testset  total\n0     AJ      64.0     16.0   80.0\n1     BX      70.0     17.0   87.0\n2     CJ      73.0     18.0   91.0\n3     CK      61.0     15.0   76.0\n4     CQ      57.0     14.0   71.0\n5     CR      58.0     14.0   72.0\n6     FS      44.0     11.0   55.0\n7     FZ      53.0     13.0   66.0\n8     JG      61.0     15.0   76.0\n9     PL      54.0     13.0   67.0\n10    QF      52.0     13.0   65.0\n11    SG      60.0     14.0   74.0\n12    SL      52.0     12.0   64.0\n13    TJ      59.0     14.0   73.0\n14    TL      49.0     12.0   61.0\n15    ZW      52.0     12.0   64.0",
      "text/html": "<div>\n<style scoped>\n    .dataframe tbody tr th:only-of-type {\n        vertical-align: middle;\n    }\n\n    .dataframe tbody tr th {\n        vertical-align: top;\n    }\n\n    .dataframe thead th {\n        text-align: right;\n    }\n</style>\n<table border=\"1\" class=\"dataframe\">\n  <thead>\n    <tr style=\"text-align: right;\">\n      <th></th>\n      <th>class</th>\n      <th>trainset</th>\n      <th>testset</th>\n      <th>total</th>\n    </tr>\n  </thead>\n  <tbody>\n    <tr>\n      <th>0</th>\n      <td>AJ</td>\n      <td>64.0</td>\n      <td>16.0</td>\n      <td>80.0</td>\n    </tr>\n    <tr>\n      <th>1</th>\n      <td>BX</td>\n      <td>70.0</td>\n      <td>17.0</td>\n      <td>87.0</td>\n    </tr>\n    <tr>\n      <th>2</th>\n      <td>CJ</td>\n      <td>73.0</td>\n      <td>18.0</td>\n      <td>91.0</td>\n    </tr>\n    <tr>\n      <th>3</th>\n      <td>CK</td>\n      <td>61.0</td>\n      <td>15.0</td>\n      <td>76.0</td>\n    </tr>\n    <tr>\n      <th>4</th>\n      <td>CQ</td>\n      <td>57.0</td>\n      <td>14.0</td>\n      <td>71.0</td>\n    </tr>\n    <tr>\n      <th>5</th>\n      <td>CR</td>\n      <td>58.0</td>\n      <td>14.0</td>\n      <td>72.0</td>\n    </tr>\n    <tr>\n      <th>6</th>\n      <td>FS</td>\n      <td>44.0</td>\n      <td>11.0</td>\n      <td>55.0</td>\n    </tr>\n    <tr>\n      <th>7</th>\n      <td>FZ</td>\n      <td>53.0</td>\n      <td>13.0</td>\n      <td>66.0</td>\n    </tr>\n    <tr>\n      <th>8</th>\n      <td>JG</td>\n      <td>61.0</td>\n      <td>15.0</td>\n      <td>76.0</td>\n    </tr>\n    <tr>\n      <th>9</th>\n      <td>PL</td>\n      <td>54.0</td>\n      <td>13.0</td>\n      <td>67.0</td>\n    </tr>\n    <tr>\n      <th>10</th>\n      <td>QF</td>\n      <td>52.0</td>\n      <td>13.0</td>\n      <td>65.0</td>\n    </tr>\n    <tr>\n      <th>11</th>\n      <td>SG</td>\n      <td>60.0</td>\n      <td>14.0</td>\n      <td>74.0</td>\n    </tr>\n    <tr>\n      <th>12</th>\n      <td>SL</td>\n      <td>52.0</td>\n      <td>12.0</td>\n      <td>64.0</td>\n    </tr>\n    <tr>\n      <th>13</th>\n      <td>TJ</td>\n      <td>59.0</td>\n      <td>14.0</td>\n      <td>73.0</td>\n    </tr>\n    <tr>\n      <th>14</th>\n      <td>TL</td>\n      <td>49.0</td>\n      <td>12.0</td>\n      <td>61.0</td>\n    </tr>\n    <tr>\n      <th>15</th>\n      <td>ZW</td>\n      <td>52.0</td>\n      <td>12.0</td>\n      <td>64.0</td>\n    </tr>\n  </tbody>\n</table>\n</div>"
     },
     "execution_count": 5,
     "metadata": {},
     "output_type": "execute_result"
    }
   ],
   "source": [
    "df"
   ]
  },
  {
   "cell_type": "markdown",
   "id": "4f111353",
   "metadata": {},
   "source": [
    "### 图像数量柱状图可视化"
   ]
  },
  {
   "cell_type": "code",
   "execution_count": 6,
   "id": "03ad8e11",
   "metadata": {},
   "outputs": [],
   "source": [
    "# 指定可视化的特征\n",
    "feature = 'total'\n",
    "# feature = 'trainset'\n",
    "# feature = 'testset'"
   ]
  },
  {
   "cell_type": "code",
   "execution_count": 7,
   "id": "fa0e683d",
   "metadata": {},
   "outputs": [],
   "source": [
    "df = df.sort_values(by=feature, ascending=False)"
   ]
  },
  {
   "cell_type": "code",
   "execution_count": 8,
   "id": "88679081",
   "metadata": {},
   "outputs": [
    {
     "data": {
      "text/plain": "  class  trainset  testset  total\n2    CJ      73.0     18.0   91.0\n1    BX      70.0     17.0   87.0\n0    AJ      64.0     16.0   80.0\n3    CK      61.0     15.0   76.0\n8    JG      61.0     15.0   76.0",
      "text/html": "<div>\n<style scoped>\n    .dataframe tbody tr th:only-of-type {\n        vertical-align: middle;\n    }\n\n    .dataframe tbody tr th {\n        vertical-align: top;\n    }\n\n    .dataframe thead th {\n        text-align: right;\n    }\n</style>\n<table border=\"1\" class=\"dataframe\">\n  <thead>\n    <tr style=\"text-align: right;\">\n      <th></th>\n      <th>class</th>\n      <th>trainset</th>\n      <th>testset</th>\n      <th>total</th>\n    </tr>\n  </thead>\n  <tbody>\n    <tr>\n      <th>2</th>\n      <td>CJ</td>\n      <td>73.0</td>\n      <td>18.0</td>\n      <td>91.0</td>\n    </tr>\n    <tr>\n      <th>1</th>\n      <td>BX</td>\n      <td>70.0</td>\n      <td>17.0</td>\n      <td>87.0</td>\n    </tr>\n    <tr>\n      <th>0</th>\n      <td>AJ</td>\n      <td>64.0</td>\n      <td>16.0</td>\n      <td>80.0</td>\n    </tr>\n    <tr>\n      <th>3</th>\n      <td>CK</td>\n      <td>61.0</td>\n      <td>15.0</td>\n      <td>76.0</td>\n    </tr>\n    <tr>\n      <th>8</th>\n      <td>JG</td>\n      <td>61.0</td>\n      <td>15.0</td>\n      <td>76.0</td>\n    </tr>\n  </tbody>\n</table>\n</div>"
     },
     "execution_count": 8,
     "metadata": {},
     "output_type": "execute_result"
    }
   ],
   "source": [
    "df.head()"
   ]
  },
  {
   "cell_type": "code",
   "execution_count": 9,
   "id": "dad6d1d0",
   "metadata": {},
   "outputs": [],
   "source": [
    "plt.figure(figsize=(22, 7))\n",
    "\n",
    "x = df['class']\n",
    "y = df[feature]\n",
    "\n",
    "plt.bar(x, y, facecolor='#1f77b4', edgecolor='k')\n",
    "\n",
    "plt.xticks(rotation=90)\n",
    "plt.tick_params(labelsize=15)\n",
    "plt.xlabel('类别', fontsize=20)\n",
    "plt.ylabel('图像数量', fontsize=20)\n",
    "\n",
    "# plt.savefig('各类别图片数量.pdf', dpi=120, bbox_inches='tight')\n",
    "\n",
    "plt.show()"
   ]
  },
  {
   "cell_type": "code",
   "execution_count": 10,
   "id": "db9b24c5",
   "metadata": {},
   "outputs": [],
   "source": [
    "plt.figure(figsize=(22, 7))\n",
    "x = df['class']\n",
    "y1 = df['testset']\n",
    "y2 = df['trainset']\n",
    "\n",
    "width = 0.55 # 柱状图宽度\n",
    "\n",
    "plt.xticks(rotation=90) # 横轴文字旋转\n",
    "\n",
    "plt.bar(x, y1, width, label='测试集')\n",
    "plt.bar(x, y2, width, label='训练集', bottom=y1)\n",
    "\n",
    "\n",
    "plt.xlabel('类别', fontsize=20)\n",
    "plt.ylabel('图像数量', fontsize=20)\n",
    "plt.tick_params(labelsize=13) # 设置坐标文字大小\n",
    "\n",
    "plt.legend(fontsize=16) # 图例\n",
    "\n",
    "# 保存为高清的 pdf 文件\n",
    "plt.savefig('各类别图像数量.pdf', dpi=120, bbox_inches='tight')\n",
    "\n",
    "plt.show()"
   ]
  },
  {
   "cell_type": "code",
   "execution_count": null,
   "id": "a154c5be-bec1-440b-a37e-d7cea7f022d0",
   "metadata": {},
   "outputs": [],
   "source": []
  }
 ],
 "metadata": {
  "kernelspec": {
   "display_name": "Python 3 (ipykernel)",
   "language": "python",
   "name": "python3"
  },
  "language_info": {
   "codemirror_mode": {
    "name": "ipython",
    "version": 3
   },
   "file_extension": ".py",
   "mimetype": "text/x-python",
   "name": "python",
   "nbconvert_exporter": "python",
   "pygments_lexer": "ipython3",
   "version": "3.7.10"
  }
 },
 "nbformat": 4,
 "nbformat_minor": 5
}
