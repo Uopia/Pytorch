{
 "cells": [
  {
   "cell_type": "code",
   "execution_count": 17,
   "metadata": {
    "collapsed": true
   },
   "outputs": [
    {
     "name": "stdout",
     "output_type": "stream",
     "text": [
      "Deleted: D:\\Desktop\\data\\AJ\\25008.mp4\n",
      "Deleted: D:\\Desktop\\data\\AJ\\25058.mp4\n",
      "Deleted: D:\\Desktop\\data\\AJ\\25064.mp4\n",
      "Deleted: D:\\Desktop\\data\\AJ\\25087.mp4\n",
      "Deleted: D:\\Desktop\\data\\AJ\\25149.mp4\n",
      "Deleted: D:\\Desktop\\data\\AJ\\25160.mp4\n",
      "Deleted: D:\\Desktop\\data\\AJ\\25248.mp4\n",
      "Deleted: D:\\Desktop\\data\\AJ\\25250.mp4\n",
      "Deleted: D:\\Desktop\\data\\AJ\\25264.mp4\n",
      "Deleted: D:\\Desktop\\data\\AJ\\25290.mp4\n",
      "Deleted: D:\\Desktop\\data\\AJ\\25328.mp4\n",
      "Deleted: D:\\Desktop\\data\\AJ\\25343.mp4\n",
      "Deleted: D:\\Desktop\\data\\AJ\\25358.mp4\n",
      "Deleted: D:\\Desktop\\data\\AJ\\25379.mp4\n",
      "Deleted: D:\\Desktop\\data\\AJ\\25389.mp4\n",
      "Deleted: D:\\Desktop\\data\\AJ\\25393.mp4\n",
      "Deleted: D:\\Desktop\\data\\AJ\\25414.mp4\n",
      "Deleted: D:\\Desktop\\data\\AJ\\25430.mp4\n",
      "Deleted: D:\\Desktop\\data\\AJ\\25505.mp4\n",
      "Deleted: D:\\Desktop\\data\\AJ\\27036.mp4\n",
      "Deleted: D:\\Desktop\\data\\AJ\\27384.mp4\n",
      "Deleted: D:\\Desktop\\data\\AJ\\27440.mp4\n",
      "Deleted: D:\\Desktop\\data\\AJ\\27488.mp4\n",
      "Deleted: D:\\Desktop\\data\\AJ\\27519.mp4\n",
      "Deleted: D:\\Desktop\\data\\AJ\\27590.mp4\n",
      "Deleted: D:\\Desktop\\data\\AJ\\27614.mp4\n",
      "Deleted: D:\\Desktop\\data\\AJ\\27618.mp4\n",
      "Deleted: D:\\Desktop\\data\\AJ\\27619.mp4\n",
      "Deleted: D:\\Desktop\\data\\AJ\\27621.mp4\n",
      "Deleted: D:\\Desktop\\data\\AJ\\d4307.mp4\n"
     ]
    }
   ],
   "source": [
    "import os\n",
    "\n",
    "folder_path = \"D:\\\\Desktop\\\\data\\\\AJ\"\n",
    "\n",
    "for filename in os.listdir(folder_path):\n",
    "    file_ext = os.path.splitext(filename)[1]\n",
    "\n",
    "    if file_ext in [\".mp4\", \".xml\"]:\n",
    "        file_path = os.path.join(folder_path, filename)\n",
    "        os.remove(file_path)\n",
    "        print(f\"Deleted: {file_path}\")"
   ]
  }
 ],
 "metadata": {
  "kernelspec": {
   "display_name": "Python 3",
   "language": "python",
   "name": "python3"
  },
  "language_info": {
   "codemirror_mode": {
    "name": "ipython",
    "version": 2
   },
   "file_extension": ".py",
   "mimetype": "text/x-python",
   "name": "python",
   "nbconvert_exporter": "python",
   "pygments_lexer": "ipython2",
   "version": "2.7.6"
  }
 },
 "nbformat": 4,
 "nbformat_minor": 0
}
